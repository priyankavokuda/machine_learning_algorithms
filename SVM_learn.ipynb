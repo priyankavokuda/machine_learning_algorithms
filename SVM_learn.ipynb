{
 "cells": [
  {
   "cell_type": "code",
   "execution_count": 79,
   "metadata": {
    "collapsed": true
   },
   "outputs": [],
   "source": [
    "import numpy as np\n",
    "from matplotlib import pyplot as plt\n",
    "%matplotlib inline"
   ]
  },
  {
   "cell_type": "code",
   "execution_count": 80,
   "metadata": {},
   "outputs": [
    {
     "name": "stdout",
     "output_type": "stream",
     "text": [
      "(11,)\n"
     ]
    },
    {
     "data": {
      "image/png": "[encoded data removed]",
      "text/plain": [
       "<matplotlib.figure.Figure at 0x7f752d393240>"
      ]
     },
     "metadata": {},
     "output_type": "display_data"
    }
   ],
   "source": [
    "#Input data - Of the form [X value, Y value, Bias term]\n",
    "X = np.array([\n",
    "    [-2,4,-1],\n",
    "    [4, 1, -1],\n",
    "    [0,3,-1],\n",
    "    [-2,2,-1],\n",
    "    [-1,2,-1],\n",
    "    [1, 6, -1],\n",
    "    [2, 5, -1],\n",
    "    [6, 3, -1],\n",
    "    [5,5,-1],\n",
    "    [4,5,-1],\n",
    "    [2,6,-1]\n",
    "    \n",
    "])\n",
    "\n",
    "'''X = np.array([\n",
    "    [-2,4,-1],\n",
    "    [4,1,-1],\n",
    "    [1, 6, -1],\n",
    "    [2, 4, -1],\n",
    "    [6, 2, -1],\n",
    "])'''\n",
    "\n",
    "Y = np.array([-1,-1,-1,-1,-1,1,1,1,1,1,1])\n",
    "\n",
    "plt.title(\"Input samples\")\n",
    "for d, sample in enumerate(X):\n",
    "    if Y[d] == -1:\n",
    "        plt.plot(sample[0],sample[1], 'ro')\n",
    "    else:\n",
    "        plt.plot(sample[0],sample[1],'bo' )\n",
    "\n",
    "\n"
   ]
  },
  {
   "cell_type": "markdown",
   "metadata": {},
   "source": [
    "In SVM hinge loss is optimised or minimised.\n",
    "c(X,Y,f(X)) = (1-Y*f(X))\n",
    "\n",
    "if Y*f(X) = 1 hinge loss is 0 else hinge loss is 1\n",
    "\n",
    "To minimise hinge loss, the loss function is diffrenciated.\n",
    "\n",
    "if misclassified\n",
    "w = w + eta(YX - 2 lambda w)\n",
    "\n",
    "if correctly classified\n",
    "w = w + eta(- 2 lambda w)"
   ]
  },
  {
   "cell_type": "code",
   "execution_count": 89,
   "metadata": {},
   "outputs": [
    {
     "data": {
      "image/png": "[encoded data removed]",
      "text/plain": [
       "<matplotlib.figure.Figure at 0x7f752d6245c0>"
      ]
     },
     "metadata": {},
     "output_type": "display_data"
    }
   ],
   "source": [
    "def svm_sgd(X,Y):\n",
    "    w = np.zeros(X.shape[1])\n",
    "    eta = 1\n",
    "    epochs = 150000\n",
    "    errors = []\n",
    "    \n",
    "    for epoch in range(1,epochs):\n",
    "        error = 0\n",
    "        for i,x in enumerate(X):\n",
    "            #print(X[i],Y[i],w)\n",
    "            if(Y[i]*np.dot(X[i],w)) < 1:\n",
    "                w = w + eta * ( (X[i] * Y[i])  + (-2 * (1/epoch) * w))\n",
    "                error = 1\n",
    "            else:\n",
    "                w = w +eta * (-2 * (1/epoch)*w)\n",
    "        errors.append(error)\n",
    "    plt.title(\"Errors\")\n",
    "    plt.plot(errors)\n",
    "    plt.show()\n",
    "    return w\n",
    "w = svm_sgd(X,Y)"
   ]
  },
  {
   "cell_type": "code",
   "execution_count": 90,
   "metadata": {},
   "outputs": [
    {
     "data": {
      "text/plain": [
       "<matplotlib.quiver.Quiver at 0x7f752cbd6f28>"
      ]
     },
     "execution_count": 90,
     "metadata": {},
     "output_type": "execute_result"
    },
    {
     "data": {
      "image/png": "[encoded data removed]",
      "text/plain": [
       "<matplotlib.figure.Figure at 0x7f752d02bcf8>"
      ]
     },
     "metadata": {},
     "output_type": "display_data"
    }
   ],
   "source": [
    "plt.title(\"Hyperplane\")\n",
    "for d, sample in enumerate(X):\n",
    "    if Y[d] == -1:\n",
    "        plt.plot(sample[0],sample[1], 'ro')\n",
    "    else:\n",
    "        plt.plot(sample[0],sample[1],'bo' )\n",
    "\n",
    "x2 = [w[0],w[1],-w[1],w[0]]\n",
    "x3 = [w[0],w[1],w[1],-w[0]]\n",
    "\n",
    "x2x3 = np.array([x2,x3])\n",
    "A,B,C,D = zip(*x2x3)\n",
    "ax = plt.gca()\n",
    "ax.quiver(A,B,C,D,scale=1,color=\"blue\")"
   ]
  }
 ],
 "metadata": {
  "kernelspec": {
   "display_name": "Python 3",
   "language": "python",
   "name": "python3"
  },
  "language_info": {
   "codemirror_mode": {
    "name": "ipython",
    "version": 3
   },
   "file_extension": ".py",
   "mimetype": "text/x-python",
   "name": "python",
   "nbconvert_exporter": "python",
   "pygments_lexer": "ipython3",
   "version": "3.5.4"
  }
 },
 "nbformat": 4,
 "nbformat_minor": 2
}
